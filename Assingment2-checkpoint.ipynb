{
 "cells": [
  {
   "cell_type": "code",
   "execution_count": 17,
   "id": "d4a1161d",
   "metadata": {},
   "outputs": [
    {
     "name": "stdout",
     "output_type": "stream",
     "text": [
      "*\r\n",
      "**\r\n",
      "***\r\n",
      "****\r\n",
      "*****\r\n",
      "****\r\n",
      "***\r\n",
      "**\r\n",
      "*\r\n",
      " \n"
     ]
    }
   ],
   "source": [
    "row=9\n",
    "for i in range(0,row):\n",
    "    #print(\"*\",end=\" \")\n",
    "    for j in range(0,i+1):\n",
    "        if j<=8-i:\n",
    "            print(\"*\",end='')\n",
    "    print(\"\\r\")\n",
    "else :\n",
    "    print(\" \")"
   ]
  },
  {
   "cell_type": "code",
   "execution_count": 4,
   "id": "83721117",
   "metadata": {},
   "outputs": [
    {
     "name": "stdout",
     "output_type": "stream",
     "text": [
      "Enter a wordsujata\n",
      "atajus\n"
     ]
    }
   ],
   "source": [
    "n=str(input(\"Enter a word\"))\n",
    "s=\"\" \n",
    "i=n[len(n)::-1]\n",
    "s=s+i\n",
    "print(s)\n"
   ]
  },
  {
   "cell_type": "code",
   "execution_count": null,
   "id": "0b9d8c0d",
   "metadata": {},
   "outputs": [],
   "source": []
  },
  {
   "cell_type": "code",
   "execution_count": null,
   "id": "0643ab15",
   "metadata": {},
   "outputs": [],
   "source": []
  }
 ],
 "metadata": {
  "kernelspec": {
   "display_name": "Python 3",
   "language": "python",
   "name": "python3"
  },
  "language_info": {
   "codemirror_mode": {
    "name": "ipython",
    "version": 3
   },
   "file_extension": ".py",
   "mimetype": "text/x-python",
   "name": "python",
   "nbconvert_exporter": "python",
   "pygments_lexer": "ipython3",
   "version": "3.8.8"
  }
 },
 "nbformat": 4,
 "nbformat_minor": 5
}
